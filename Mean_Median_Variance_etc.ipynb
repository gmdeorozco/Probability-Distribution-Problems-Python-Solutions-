{
  "cells": [
    {
      "cell_type": "markdown",
      "metadata": {
        "id": "view-in-github",
        "colab_type": "text"
      },
      "source": [
        "<a href=\"https://colab.research.google.com/github/gmdeorozco/Probability-Distribution-Problems-Python-Solutions-/blob/main/Mean_Median_Variance_etc.ipynb\" target=\"_parent\"><img src=\"https://colab.research.google.com/assets/colab-badge.svg\" alt=\"Open In Colab\"/></a>"
      ]
    },
    {
      "cell_type": "markdown",
      "metadata": {
        "id": "3_Nw-GnY5lRT"
      },
      "source": [
        "#MEAN, MEDIAN, MODE, VARIANCE, STANDARD DEVIATION ETC."
      ]
    },
    {
      "cell_type": "code",
      "execution_count": 21,
      "metadata": {
        "id": "DfJ6ZrpE5ENT",
        "outputId": "b82fe91d-18cb-4d06-c4fd-2c63a935bff7",
        "colab": {
          "base_uri": "https://localhost:8080/"
        }
      },
      "outputs": [
        {
          "output_type": "stream",
          "name": "stdout",
          "text": [
            "[1 4 6 5]\n"
          ]
        }
      ],
      "source": [
        "import numpy as np\n",
        "dataset = np.array([1,4,6,5])\n",
        "print(dataset)\n"
      ]
    },
    {
      "cell_type": "markdown",
      "metadata": {
        "id": "6w6v56sG8JM5"
      },
      "source": [
        "## 1. Mean"
      ]
    },
    {
      "cell_type": "code",
      "source": [
        "def get_mean(data):\n",
        "  return sum(data)/len(data)\n",
        "\n",
        "mean = get_mean(dataset)\n",
        "print(f'Mean of dataset is {mean}')"
      ],
      "metadata": {
        "id": "VqZIL-6xQ-BX",
        "outputId": "581c0baa-f357-49b0-8f2f-00de76bcd4e1",
        "colab": {
          "base_uri": "https://localhost:8080/"
        }
      },
      "execution_count": 22,
      "outputs": [
        {
          "output_type": "stream",
          "name": "stdout",
          "text": [
            "Mean of dataset is 4.0\n"
          ]
        }
      ]
    },
    {
      "cell_type": "markdown",
      "source": [
        "## 2. Median"
      ],
      "metadata": {
        "id": "tRslIsLuRf6v"
      }
    },
    {
      "cell_type": "code",
      "source": [
        "def get_median(data):\n",
        "  data = np.sort(data)\n",
        "  n = len(data)\n",
        "  median = data[int(n/2)]\n",
        "  if n % 2 == 0:\n",
        "    median = (data[int(n/2 - 1)] + data[int(n/2)])/2\n",
        "  return median\n",
        "\n",
        "data_median_1 = dataset\n",
        "data_median_2 = np.array([1,5,2,4,6])\n",
        "\n",
        "print(f'Median of data_median+2 is: {get_median(data_median_2)}')\n",
        "print(f'Median of data_median+2 is: {get_median(data_median_1)}')\n"
      ],
      "metadata": {
        "id": "VHXt-X2mRbI4",
        "outputId": "088c3a00-4f65-4a88-e8b8-27bdb603b8c7",
        "colab": {
          "base_uri": "https://localhost:8080/"
        }
      },
      "execution_count": 31,
      "outputs": [
        {
          "output_type": "stream",
          "name": "stdout",
          "text": [
            "Median of data_median+2 is: 4\n",
            "Median of data_median+2 is: 4.5\n"
          ]
        }
      ]
    },
    {
      "cell_type": "markdown",
      "source": [
        "## 3.Mode"
      ],
      "metadata": {
        "id": "IHnBLTgjV3zy"
      }
    },
    {
      "cell_type": "code",
      "source": [
        "#Frequency computer helper function\n",
        "def get_frequency_dict(data):\n",
        "  computed_freq = dict()\n",
        "  for x in data:\n",
        "    if x in computed_freq:\n",
        "      computed_freq[x] += 1\n",
        "    else:\n",
        "      computed_freq[x] = 1\n",
        "  return computed_freq"
      ],
      "metadata": {
        "id": "f3Q8qB0MXDgR"
      },
      "execution_count": 34,
      "outputs": []
    },
    {
      "cell_type": "code",
      "source": [
        "def get_mode(data):\n",
        "  computed_freq = get_frequency_dict(data)\n",
        "  max_frequency = 0\n",
        "  mode = set()\n",
        "  for key in computed_freq:\n",
        "    if computed_freq[key] > max_frequency:\n",
        "      mode.clear()\n",
        "      mode.add(key)\n",
        "      max_frequency = computed_freq[key]\n",
        "    elif computed_freq[key] == max_frequency and max_frequency > 0:\n",
        "      mode.add(key)\n",
        "  return mode\n",
        "arr = [1,1,2,2,2,3,3,3,4,4,4,4,5,5,6,]\n",
        "print(f'The mode for array arr is {get_mode(arr)}')\n",
        "\n",
        "arr2 = [1,1,2,2,2,3,3,3,4,4,4,5,5,6,]\n",
        "print(f'The mode for array arr2 is {get_mode(arr2)}')"
      ],
      "metadata": {
        "id": "N9hkVoi3SdHf",
        "outputId": "fce17d60-7ab8-4a9a-839d-eb6fc19bc200",
        "colab": {
          "base_uri": "https://localhost:8080/"
        }
      },
      "execution_count": 40,
      "outputs": [
        {
          "output_type": "stream",
          "name": "stdout",
          "text": [
            "The mode for array arr is {4}\n",
            "The mode for array arr2 is {2, 3, 4}\n"
          ]
        }
      ]
    },
    {
      "cell_type": "markdown",
      "source": [
        "## 4. Variance"
      ],
      "metadata": {
        "id": "_ArEogO9aylq"
      }
    },
    {
      "cell_type": "code",
      "source": [
        "def get_variance(data):\n",
        "  s = 0\n",
        "  n = len(data)\n",
        "  mean = get_mean(data)\n",
        "\n",
        "  for x in data:\n",
        "    s += (x-mean)**2\n",
        "\n",
        "  return s/n\n",
        "\n",
        "arr = [1,1,2,2,2,3,3,3,4,4,4,4,5,5,6,]\n",
        "var_mine = get_variance(arr)\n",
        "var_np = np.var(arr)\n",
        "\n",
        "print(f'The Variance of arr is :{var_mine}')\n",
        "print(f'Verification using numpy: {var_np}')\n"
      ],
      "metadata": {
        "id": "P5ioTDViW7tp",
        "outputId": "5ad9f903-1c9e-4d14-9df8-e74ffcdf35bb",
        "colab": {
          "base_uri": "https://localhost:8080/"
        }
      },
      "execution_count": 43,
      "outputs": [
        {
          "output_type": "stream",
          "name": "stdout",
          "text": [
            "The Variance of arr is :2.062222222222222\n",
            "Verification using numpy: 2.062222222222222\n"
          ]
        }
      ]
    },
    {
      "cell_type": "markdown",
      "source": [
        "## 5. Standard Deviation"
      ],
      "metadata": {
        "id": "ABc8nod9bbcD"
      }
    },
    {
      "cell_type": "code",
      "source": [
        "#Sqrt Root of the Variance\n",
        "def get_std(data):\n",
        "  return get_variance(data) ** 0.5\n",
        "\n",
        "print(f' Std Deviation of {arr} = {get_std(arr)}')\n",
        "print(f' Verify with numpy {np.std(arr)}')"
      ],
      "metadata": {
        "id": "wp7PcdCma-56",
        "outputId": "4ff121ca-fafd-4288-f255-59555b3c89e0",
        "colab": {
          "base_uri": "https://localhost:8080/"
        }
      },
      "execution_count": 47,
      "outputs": [
        {
          "output_type": "stream",
          "name": "stdout",
          "text": [
            " Std Deviation of [1, 1, 2, 2, 2, 3, 3, 3, 4, 4, 4, 4, 5, 5, 6] = 1.4360439485692011\n",
            " Verify with numpy 1.4360439485692011\n"
          ]
        }
      ]
    },
    {
      "cell_type": "markdown",
      "source": [
        "## 6. Skewness"
      ],
      "metadata": {
        "id": "U4H3cOLgd_39"
      }
    },
    {
      "cell_type": "code",
      "source": [
        "import scipy\n",
        "\n",
        "arr = [1,1,2,2,2,3,3,3,4,4,4,4,5,5,6,]\n",
        "\n",
        "mean = get_mean(arr)\n",
        "median = get_median(arr)\n",
        "std = get_std(arr)\n",
        "\n",
        "def get_skeweness(data):\n",
        "  n = len(data)\n",
        "  mean = get_mean(arr)\n",
        "  std = get_std(arr)\n",
        "  skewness = sum((x - mean) ** 3 for x in data) / (n * std ** 3)\n",
        "  return skewness\n",
        "\n",
        "skeweness = get_skeweness(arr)\n",
        "print(skeweness)\n",
        "print(scipy.stats.skew(arr))\n"
      ],
      "metadata": {
        "id": "jvVIWZddcfdz",
        "outputId": "5cfe0b9d-5bd6-4fd9-84c2-e1c14204b9d3",
        "colab": {
          "base_uri": "https://localhost:8080/"
        }
      },
      "execution_count": 56,
      "outputs": [
        {
          "output_type": "stream",
          "name": "stdout",
          "text": [
            "0.06683431352493059\n",
            "0.06683431352493052\n"
          ]
        }
      ]
    },
    {
      "cell_type": "code",
      "source": [],
      "metadata": {
        "id": "gJ_twpEhfFXN"
      },
      "execution_count": null,
      "outputs": []
    }
  ],
  "metadata": {
    "colab": {
      "provenance": [],
      "include_colab_link": true
    },
    "kernelspec": {
      "display_name": "Python 3",
      "name": "python3"
    },
    "language_info": {
      "codemirror_mode": {
        "name": "ipython",
        "version": 3
      },
      "file_extension": ".py",
      "mimetype": "text/x-python",
      "name": "python",
      "nbconvert_exporter": "python",
      "pygments_lexer": "ipython3",
      "version": "3.12.0"
    }
  },
  "nbformat": 4,
  "nbformat_minor": 0
}