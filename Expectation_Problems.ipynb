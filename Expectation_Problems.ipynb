{
  "cells": [
    {
      "cell_type": "markdown",
      "metadata": {
        "id": "view-in-github",
        "colab_type": "text"
      },
      "source": [
        "<a href=\"https://colab.research.google.com/github/gmdeorozco/Probability-Distribution-Problems-Python-Solutions-/blob/main/Expectation_Problems.ipynb\" target=\"_parent\"><img src=\"https://colab.research.google.com/assets/colab-badge.svg\" alt=\"Open In Colab\"/></a>"
      ]
    },
    {
      "cell_type": "markdown",
      "source": [
        "## EXPECTATION PROBLEMS"
      ],
      "metadata": {
        "id": "NnMwRKqrF3mr"
      }
    },
    {
      "cell_type": "markdown",
      "metadata": {
        "id": "6w6v56sG8JM5"
      },
      "source": [
        "# Problem 1"
      ]
    },
    {
      "cell_type": "markdown",
      "source": [
        "The class  { Cj: 1 ≤ j ≤ 10 }  is a partition. Random variable  X  has values {1, 3, 2, 3, 4, 2, 1, 3, 5, 2} on  C1  through  C10 , respectively, with probabilities 0.08, 0.13, 0.06, 0.09, 0.14, 0.11, 0.12, 0.07, 0.11, 0.09. Determine  E[X]"
      ],
      "metadata": {
        "id": "IndF9UWT-D13"
      }
    },
    {
      "cell_type": "markdown",
      "source": [
        "## A. Simple Solution\n"
      ],
      "metadata": {
        "id": "wrTdey81_zQw"
      }
    },
    {
      "cell_type": "code",
      "execution_count": 2,
      "metadata": {
        "id": "DfJ6ZrpE5ENT",
        "outputId": "d08fb4b4-cf30-4eeb-946e-0e4c91db3b3a",
        "colab": {
          "base_uri": "https://localhost:8080/"
        }
      },
      "outputs": [
        {
          "output_type": "stream",
          "name": "stdout",
          "text": [
            "Probabilities form C1 to C10 are [0.08 0.39 0.12 0.27 0.56 0.22 0.12 0.21 0.55 0.18] respectively\n",
            "Result The Expectation E[X] = 2.7000000000000006\n"
          ]
        }
      ],
      "source": [
        "import numpy as np\n",
        "\n",
        "partition = np.array([1, 3, 2, 3, 4, 2, 1, 3, 5, 2])\n",
        "probabilities = np.array([0.08, 0.13, 0.06, 0.09, 0.14, 0.11, 0.12, 0.07, 0.11, 0.09])\n",
        "\n",
        "partition_times_probabilitis = partition * probabilities\n",
        "print(f'Probabilities form C1 to C10 are {partition_times_probabilitis} respectively')\n",
        "\n",
        "expectation = np.sum(partition_times_probabilitis)\n",
        "print(f'Result The Expectation E[X] = {expectation}')"
      ]
    },
    {
      "cell_type": "markdown",
      "source": [
        "## B. Generalization"
      ],
      "metadata": {
        "id": "eivYmQRm_63w"
      }
    },
    {
      "cell_type": "code",
      "source": [
        "def get_expectation( partition, probabilities) -> float:\n",
        "  return round(np.sum( partition * probabilities ),2)\n",
        "\n",
        "assert get_expectation( partition, probabilities) == 2.70, f'Incorrect, it should be 2.70, returned { round(get_expectation( partition, probabilities),2) }'\n",
        "\n",
        "print('Expectation computed correctly')\n"
      ],
      "metadata": {
        "id": "z5XGHmbz8vSj",
        "outputId": "46b5cc93-f2fc-478e-f98d-f1d06230172b",
        "colab": {
          "base_uri": "https://localhost:8080/"
        }
      },
      "execution_count": 3,
      "outputs": [
        {
          "output_type": "stream",
          "name": "stdout",
          "text": [
            "Expectation computed correctly\n"
          ]
        }
      ]
    },
    {
      "cell_type": "markdown",
      "source": [
        "# Problem 2"
      ],
      "metadata": {
        "id": "L7hcuElKBclg"
      }
    },
    {
      "cell_type": "markdown",
      "source": [
        "A store has eight items for sale. The prices are $3.50, $5.00, $3.50, $7.50, $5.00, $5.00, $3.50, and $7.50, respectively. A customer comes in. She purchases one of the items with probabilities 0.10, 0.15, 0.15, 0.20, 0.10 0.05, 0.10 0.15. The random variable expressing the amount of her purchase may be written\n",
        "\n",
        "Determine the expection  E[X] of the value of her purchase."
      ],
      "metadata": {
        "id": "4zlBDNcvBiTg"
      }
    },
    {
      "cell_type": "code",
      "source": [
        "#Data\n",
        "item_prices = np.array([3.5,5.0,3.5,7.5,5.0,5.0,3.5,7.5])\n",
        "item_probabilities = np.array([0.10,0.15,0.15,0.2,0.1,0.05,0.1,0.15])\n",
        "\n",
        "print(f'The Expectation of the value of the purchase will be {get_expectation(item_prices, item_probabilities)}')"
      ],
      "metadata": {
        "id": "syLe7JhxAxB4",
        "outputId": "a104c018-62ec-4235-b13c-347c54d2d059",
        "colab": {
          "base_uri": "https://localhost:8080/"
        }
      },
      "execution_count": 4,
      "outputs": [
        {
          "output_type": "stream",
          "name": "stdout",
          "text": [
            "The Expectation of the value of the purchase will be 5.35\n"
          ]
        }
      ]
    },
    {
      "cell_type": "markdown",
      "source": [
        "#Problem 3"
      ],
      "metadata": {
        "id": "BnuBJZOZDRlB"
      }
    },
    {
      "cell_type": "markdown",
      "source": [
        "In a thunderstorm in a national park there are 127 lightning strikes. Experience shows that the probability of of a lightning strike starting a fire is about 0.0083. Determine the expected number of fires."
      ],
      "metadata": {
        "id": "qL2wGtZ7DVHY"
      }
    },
    {
      "cell_type": "code",
      "source": [
        "#Data\n",
        "lightning_strikes = np.ones(127)\n",
        "print(f'lightning strikes will be a list of {len(lightning_strikes)} ones: {lightning_strikes}')"
      ],
      "metadata": {
        "id": "bdcTXlnUDa_J",
        "outputId": "3c58d3f2-8164-49f2-9ce6-2d64060deb4b",
        "colab": {
          "base_uri": "https://localhost:8080/"
        }
      },
      "execution_count": 5,
      "outputs": [
        {
          "output_type": "stream",
          "name": "stdout",
          "text": [
            "lightning strikes will be a list of 127 ones: [1. 1. 1. 1. 1. 1. 1. 1. 1. 1. 1. 1. 1. 1. 1. 1. 1. 1. 1. 1. 1. 1. 1. 1.\n",
            " 1. 1. 1. 1. 1. 1. 1. 1. 1. 1. 1. 1. 1. 1. 1. 1. 1. 1. 1. 1. 1. 1. 1. 1.\n",
            " 1. 1. 1. 1. 1. 1. 1. 1. 1. 1. 1. 1. 1. 1. 1. 1. 1. 1. 1. 1. 1. 1. 1. 1.\n",
            " 1. 1. 1. 1. 1. 1. 1. 1. 1. 1. 1. 1. 1. 1. 1. 1. 1. 1. 1. 1. 1. 1. 1. 1.\n",
            " 1. 1. 1. 1. 1. 1. 1. 1. 1. 1. 1. 1. 1. 1. 1. 1. 1. 1. 1. 1. 1. 1. 1. 1.\n",
            " 1. 1. 1. 1. 1. 1. 1.]\n"
          ]
        }
      ]
    },
    {
      "cell_type": "code",
      "source": [
        "# We can leave the probabilities as a single number\n",
        "ls_probabilities = 0.0083\n",
        "expected_number_of_fights = get_expectation(lightning_strikes, ls_probabilities)\n",
        "\n",
        "print(f'Result: The expected number of fires will be: {expected_number_of_fights}')\n",
        "\n",
        "# It would be the same if we just let the numbers as they are\n",
        "print(f'Result with numbers: {get_expectation(127,ls_probabilities)}')"
      ],
      "metadata": {
        "id": "eIxaVye-E8Ha",
        "outputId": "35adab4a-8d05-48b2-a672-276419d42174",
        "colab": {
          "base_uri": "https://localhost:8080/"
        }
      },
      "execution_count": 6,
      "outputs": [
        {
          "output_type": "stream",
          "name": "stdout",
          "text": [
            "Result: The expected number of fires will be: 1.05\n",
            "Result with numbers: 1.05\n"
          ]
        }
      ]
    },
    {
      "cell_type": "markdown",
      "source": [
        "# Problem 4"
      ],
      "metadata": {
        "id": "o_8IkNjMGdXT"
      }
    },
    {
      "cell_type": "markdown",
      "source": [
        " Two coins are flipped twenty times. Let  X be the number of matches (both heads or both tails). Determine  E[X]"
      ],
      "metadata": {
        "id": "diyTnR_GGiWp"
      }
    },
    {
      "cell_type": "code",
      "source": [
        "prob_match = 0.5**2\n",
        "n_flips = 20\n",
        "\n",
        "# As there are two matches possible, this is two heads or two tails, we sent the probability multiplied by two\n",
        "expectation = get_expectation(n_flips, prob_match*2)\n",
        "print(f'Result: The Expectation of matches is {expectation}')"
      ],
      "metadata": {
        "id": "akhiTVE4Gp79",
        "outputId": "b906835e-f32e-4423-b577-417fac774b04",
        "colab": {
          "base_uri": "https://localhost:8080/"
        }
      },
      "execution_count": 10,
      "outputs": [
        {
          "output_type": "stream",
          "name": "stdout",
          "text": [
            "Result: The Expectation of matches is 10.0\n"
          ]
        }
      ]
    },
    {
      "cell_type": "markdown",
      "source": [
        "# Problem 5"
      ],
      "metadata": {
        "id": "QchD9y_UIOkb"
      }
    },
    {
      "cell_type": "markdown",
      "source": [
        "A residential College plans to raise money by selling “chances” on a board. Fifty chances are sold. A player pays 10 to play; he or she wins 30 with probability  p=0.2 The profit to the College is X=50⋅10−30N, where  N is the numbe of winners. Determine the expected profit E[X}"
      ],
      "metadata": {
        "id": "QR8RKuV2IRWS"
      }
    },
    {
      "cell_type": "code",
      "source": [
        "# We need to compute the expected number of winners\n",
        "prob_win = 0.20\n",
        "n_participants = 50\n",
        "expected_winners = get_expectation(n_participants, prob_win)\n",
        "\n",
        "expected_profit = n_participants*10 - 30 * expected_winners\n",
        "print(f'Result: The expected profit for the College will be: {expected_profit}')"
      ],
      "metadata": {
        "id": "0krEpf92IV5F",
        "outputId": "ddee042b-d887-4f2e-9a84-f1c57bd0d111",
        "colab": {
          "base_uri": "https://localhost:8080/"
        }
      },
      "execution_count": 12,
      "outputs": [
        {
          "output_type": "stream",
          "name": "stdout",
          "text": [
            "Result: The expected profit for the College will be: 200.0\n"
          ]
        }
      ]
    },
    {
      "cell_type": "markdown",
      "source": [
        "Credits:\n",
        "https://stats.libretexts.org/Bookshelves/Probability_Theory/Applied_Probability_(Pfeiffer)/11%3A_Mathematical_Expectation/11.03%3A_Problems_on_Mathematical_Expectation"
      ],
      "metadata": {
        "id": "F308cokTBTko"
      }
    }
  ],
  "metadata": {
    "colab": {
      "provenance": [],
      "include_colab_link": true
    },
    "kernelspec": {
      "display_name": "Python 3",
      "name": "python3"
    },
    "language_info": {
      "codemirror_mode": {
        "name": "ipython",
        "version": 3
      },
      "file_extension": ".py",
      "mimetype": "text/x-python",
      "name": "python",
      "nbconvert_exporter": "python",
      "pygments_lexer": "ipython3",
      "version": "3.12.0"
    }
  },
  "nbformat": 4,
  "nbformat_minor": 0
}