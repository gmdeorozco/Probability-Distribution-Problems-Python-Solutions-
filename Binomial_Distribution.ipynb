{
  "cells": [
    {
      "cell_type": "markdown",
      "metadata": {
        "id": "view-in-github",
        "colab_type": "text"
      },
      "source": [
        "<a href=\"https://colab.research.google.com/github/gmdeorozco/Probability-Distribution-Problems-Python-Solutions-/blob/main/Binomial_Distribution.ipynb\" target=\"_parent\"><img src=\"https://colab.research.google.com/assets/colab-badge.svg\" alt=\"Open In Colab\"/></a>"
      ]
    },
    {
      "cell_type": "markdown",
      "metadata": {
        "id": "3_Nw-GnY5lRT"
      },
      "source": [
        "# 1. Problem: Plot the Probability Distribution when fliping a coin 5 times of getting x number heads.\n",
        "\n",
        "\n",
        "---\n",
        "\n",
        "\n",
        "# 2. Standard Solution:\n",
        "\n",
        "\n"
      ]
    },
    {
      "cell_type": "markdown",
      "metadata": {
        "id": "6w6v56sG8JM5"
      },
      "source": [
        "# 3. Programing Solution"
      ]
    },
    {
      "cell_type": "markdown",
      "source": [
        "Factorial Helper Function"
      ],
      "metadata": {
        "id": "GepWYyyDvqoh"
      }
    },
    {
      "cell_type": "code",
      "execution_count": 18,
      "metadata": {
        "id": "DfJ6ZrpE5ENT",
        "outputId": "8ab0bf8a-2f95-4c93-8bd5-fc9ceed9c0ba",
        "colab": {
          "base_uri": "https://localhost:8080/"
        }
      },
      "outputs": [
        {
          "output_type": "stream",
          "name": "stdout",
          "text": [
            "Factorial computed correctly\n"
          ]
        }
      ],
      "source": [
        "def factorial(n):\n",
        "  if n <= 1:\n",
        "    return 1\n",
        "  return n * factorial(n-1)\n",
        "\n",
        "assert factorial(3) == 6, f'Incorrect 3! should be 6, returned {factorial(3)}'\n",
        "assert factorial(4) == 24, f'Incorrect 4! should be 24, returned {factorial(4)}'\n",
        "print('Factorial computed correctly')"
      ]
    },
    {
      "cell_type": "markdown",
      "source": [
        "N Choose K Helper Function"
      ],
      "metadata": {
        "id": "2TzOFH_ZvyEa"
      }
    },
    {
      "cell_type": "code",
      "source": [
        "def n_choose_k(n,k):\n",
        "  return factorial(n)/(factorial(k)*factorial(n-k))\n",
        "\n",
        "assert n_choose_k(10,6) == 210, f'Incorrect, C(10,6) should be 210, returned {n_choose_k(10,6)}'"
      ],
      "metadata": {
        "id": "vsS6uvsHvuvc"
      },
      "execution_count": 19,
      "outputs": []
    },
    {
      "cell_type": "markdown",
      "source": [
        "Binomial Distributin given by:"
      ],
      "metadata": {
        "id": "HKlzwcvpwu7p"
      }
    },
    {
      "cell_type": "code",
      "source": [],
      "metadata": {
        "id": "Fn914yDZxsiS"
      },
      "execution_count": null,
      "outputs": []
    },
    {
      "cell_type": "markdown",
      "source": [],
      "metadata": {
        "id": "DvN5bCCYxV8a"
      }
    }
  ],
  "metadata": {
    "colab": {
      "provenance": [],
      "include_colab_link": true
    },
    "kernelspec": {
      "display_name": "Python 3",
      "name": "python3"
    },
    "language_info": {
      "codemirror_mode": {
        "name": "ipython",
        "version": 3
      },
      "file_extension": ".py",
      "mimetype": "text/x-python",
      "name": "python",
      "nbconvert_exporter": "python",
      "pygments_lexer": "ipython3",
      "version": "3.12.0"
    }
  },
  "nbformat": 4,
  "nbformat_minor": 0
}